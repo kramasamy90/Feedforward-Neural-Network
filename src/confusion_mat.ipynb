{
 "cells": [
  {
   "cell_type": "code",
   "execution_count": 15,
   "metadata": {},
   "outputs": [],
   "source": [
    "import numpy as np\n",
    "import matplotlib.pyplot as plt\n",
    "import sklearn\n",
    "import sklearn.metrics\n",
    "from ann import ann\n",
    "import ann_utils\n",
    "import gd\n",
    "import train_utils\n",
    "import maps"
   ]
  },
  {
   "cell_type": "code",
   "execution_count": 2,
   "metadata": {},
   "outputs": [],
   "source": [
    "epochs = 10\n",
    "\n",
    "ann.num_layers = 5\n",
    "ann.hidden_size = 128\n",
    "ann.weight_decay = 0\n",
    "ann.learning_rate = 0.001\n",
    "\n",
    "optimizer = gd.adam\n",
    "ann.batch_size = 64\n",
    "ann.weight_init = ann_utils.xavier_init\n",
    "ann.activation = ann_utils.tanh\n",
    "ann.d_activation = ann_utils.d_tanh"
   ]
  },
  {
   "cell_type": "code",
   "execution_count": 3,
   "metadata": {},
   "outputs": [
    {
     "name": "stderr",
     "output_type": "stream",
     "text": [
      "2023-03-19 22:03:38.340255: I tensorflow/core/platform/cpu_feature_guard.cc:193] This TensorFlow binary is optimized with oneAPI Deep Neural Network Library (oneDNN) to use the following CPU instructions in performance-critical operations:  AVX2 FMA\n",
      "To enable them in other operations, rebuild TensorFlow with the appropriate compiler flags.\n",
      "2023-03-19 22:03:38.465732: W tensorflow/compiler/xla/stream_executor/platform/default/dso_loader.cc:64] Could not load dynamic library 'libcudart.so.11.0'; dlerror: libcudart.so.11.0: cannot open shared object file: No such file or directory\n",
      "2023-03-19 22:03:38.465755: I tensorflow/compiler/xla/stream_executor/cuda/cudart_stub.cc:29] Ignore above cudart dlerror if you do not have a GPU set up on your machine.\n",
      "2023-03-19 22:03:39.071517: W tensorflow/compiler/xla/stream_executor/platform/default/dso_loader.cc:64] Could not load dynamic library 'libnvinfer.so.7'; dlerror: libnvinfer.so.7: cannot open shared object file: No such file or directory\n",
      "2023-03-19 22:03:39.071609: W tensorflow/compiler/xla/stream_executor/platform/default/dso_loader.cc:64] Could not load dynamic library 'libnvinfer_plugin.so.7'; dlerror: libnvinfer_plugin.so.7: cannot open shared object file: No such file or directory\n",
      "2023-03-19 22:03:39.071619: W tensorflow/compiler/tf2tensorrt/utils/py_utils.cc:38] TF-TRT Warning: Cannot dlopen some TensorRT libraries. If you would like to use Nvidia GPU with TensorRT, please make sure the missing libraries mentioned above are installed properly.\n"
     ]
    }
   ],
   "source": [
    "## Prepare data.\n",
    "\n",
    "from keras.datasets import fashion_mnist\n",
    "(X_train, y_train), (X_test, y_test) = fashion_mnist.load_data()\n",
    "\n",
    "# Normalize data\n",
    "X_train = X_train / 255.0\n",
    "X_test = X_test / 255.0\n",
    "\n",
    "# Meta information about the data.\n",
    "n_train = len(y_train.flatten())\n",
    "n_test = len(y_test.flatten())\n",
    "input_dim = len(X_train[0].flatten())\n",
    "output_dim = 10\n",
    "\n",
    "# Split train data to train and validation sets.\n",
    "ind = [i for i in range(n_train)]\n",
    "np.random.shuffle(ind)\n",
    "m = int(n_train * 0.1)\n",
    "X_valid = X_train[ind[1: m]]\n",
    "y_valid = y_train[ind[1: m]]\n",
    "X_train = X_train[ind[m:]]\n",
    "y_train = y_train[ind[m:]]\n",
    "\n"
   ]
  },
  {
   "cell_type": "code",
   "execution_count": 4,
   "metadata": {},
   "outputs": [],
   "source": [
    "nn = ann(input_dim, output_dim)\n",
    "optimizer(nn, X_train, y_train, epochs)"
   ]
  },
  {
   "cell_type": "code",
   "execution_count": 8,
   "metadata": {},
   "outputs": [
    {
     "name": "stdout",
     "output_type": "stream",
     "text": [
      "1.0164875427223858\n",
      "0.6786131021836973\n",
      "1.0487049730898041\n",
      "0.6629\n"
     ]
    }
   ],
   "source": [
    "print(train_utils.get_loss(nn, X_valid, y_valid))\n",
    "print(train_utils.get_classification_accuracy(nn, X_valid, y_valid))\n",
    "print(train_utils.get_loss(nn, X_test, y_test))\n",
    "print(train_utils.get_classification_accuracy(nn, X_test, y_test))"
   ]
  },
  {
   "cell_type": "code",
   "execution_count": 12,
   "metadata": {},
   "outputs": [],
   "source": [
    "y_pred = np.zeros(y_test.shape)\n",
    "for i in range(len(y_test)):\n",
    "    y_pred[i] = nn.predict(X_test[i])"
   ]
  },
  {
   "cell_type": "code",
   "execution_count": 21,
   "metadata": {},
   "outputs": [
    {
     "name": "stdout",
     "output_type": "stream",
     "text": [
      "[[796   2   0 123  26   1  32   0  19   1]\n",
      " [ 21 848   0 105  10   0  14   0   2   0]\n",
      " [ 40   1   0  17 587   0 327   0  27   1]\n",
      " [ 63  11   0 833  62   0  28   0   3   0]\n",
      " [  3   0   0  71 852   0  60   0  14   0]\n",
      " [  0   1   0   2   0 373   0 254  60 310]\n",
      " [257   0   1  75 405   0 212   0  50   0]\n",
      " [  0   0   0   0   0  36   0 844  14 106]\n",
      " [ 12   1   0  13  12   0   8   8 945   1]\n",
      " [  0   0   0   3   0   3   0  54  14 926]]\n"
     ]
    }
   ],
   "source": [
    "confusion_mat = sklearn.metrics.confusion_matrix(y_test, y_pred)\n",
    "print(confusion_mat)"
   ]
  },
  {
   "cell_type": "code",
   "execution_count": 25,
   "metadata": {},
   "outputs": [
    {
     "data": {
      "image/png": "[encoded data removed]",
      "text/plain": [
       "<Figure size 640x480 with 1 Axes>"
      ]
     },
     "metadata": {},
     "output_type": "display_data"
    }
   ],
   "source": [
    "plt.imshow(confusion_mat, cmap='plasma')\n",
    "plt.savefig('../confusion_mat.png')"
   ]
  },
  {
   "cell_type": "code",
   "execution_count": 26,
   "metadata": {},
   "outputs": [
    {
     "name": "stderr",
     "output_type": "stream",
     "text": [
      "Failed to detect the name of this notebook, you can set it manually with the WANDB_NOTEBOOK_NAME environment variable to enable code saving.\n",
      "\u001b[34m\u001b[1mwandb\u001b[0m: Currently logged in as: \u001b[33mcs22m068\u001b[0m (\u001b[33mcs6910-cs22m068\u001b[0m). Use \u001b[1m`wandb login --relogin`\u001b[0m to force relogin\n"
     ]
    },
    {
     "data": {
      "text/html": [
       "wandb version 0.14.0 is available!  To upgrade, please run:\n",
       " $ pip install wandb --upgrade"
      ],
      "text/plain": [
       "<IPython.core.display.HTML object>"
      ]
     },
     "metadata": {},
     "output_type": "display_data"
    },
    {
     "data": {
      "text/html": [
       "Tracking run with wandb version 0.13.10"
      ],
      "text/plain": [
       "<IPython.core.display.HTML object>"
      ]
     },
     "metadata": {},
     "output_type": "display_data"
    },
    {
     "data": {
      "text/html": [
       "Run data is saved locally in <code>/mnt/d/courses/cs6910_dl/CS6910-Assignment-1/src/wandb/run-20230319_221620-fzskoy2f</code>"
      ],
      "text/plain": [
       "<IPython.core.display.HTML object>"
      ]
     },
     "metadata": {},
     "output_type": "display_data"
    },
    {
     "data": {
      "text/html": [
       "Syncing run <strong><a href='https://wandb.ai/cs6910-cs22m068/cs6910-Assignment-1/runs/fzskoy2f' target=\"_blank\">fanciful-valley-205</a></strong> to <a href='https://wandb.ai/cs6910-cs22m068/cs6910-Assignment-1' target=\"_blank\">Weights & Biases</a> (<a href='https://wandb.me/run' target=\"_blank\">docs</a>)<br/>"
      ],
      "text/plain": [
       "<IPython.core.display.HTML object>"
      ]
     },
     "metadata": {},
     "output_type": "display_data"
    },
    {
     "data": {
      "text/html": [
       " View project at <a href='https://wandb.ai/cs6910-cs22m068/cs6910-Assignment-1' target=\"_blank\">https://wandb.ai/cs6910-cs22m068/cs6910-Assignment-1</a>"
      ],
      "text/plain": [
       "<IPython.core.display.HTML object>"
      ]
     },
     "metadata": {},
     "output_type": "display_data"
    },
    {
     "data": {
      "text/html": [
       " View run at <a href='https://wandb.ai/cs6910-cs22m068/cs6910-Assignment-1/runs/fzskoy2f' target=\"_blank\">https://wandb.ai/cs6910-cs22m068/cs6910-Assignment-1/runs/fzskoy2f</a>"
      ],
      "text/plain": [
       "<IPython.core.display.HTML object>"
      ]
     },
     "metadata": {},
     "output_type": "display_data"
    }
   ],
   "source": [
    "import wandb\n",
    "wandb.login()\n",
    "wandb.init(project='cs6910-Assignment-1')\n",
    "wandb.log({\"Confusion_Matrix\": wandb.Image('../confusion_mat.png')})"
   ]
  }
 ],
 "metadata": {
  "kernelspec": {
   "display_name": "Python 3",
   "language": "python",
   "name": "python3"
  },
  "language_info": {
   "codemirror_mode": {
    "name": "ipython",
    "version": 3
   },
   "file_extension": ".py",
   "mimetype": "text/x-python",
   "name": "python",
   "nbconvert_exporter": "python",
   "pygments_lexer": "ipython3",
   "version": "3.10.6"
  },
  "orig_nbformat": 4
 },
 "nbformat": 4,
 "nbformat_minor": 2
}
