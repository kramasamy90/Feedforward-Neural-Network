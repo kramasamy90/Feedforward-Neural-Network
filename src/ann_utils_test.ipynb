{
 "cells": [
  {
   "attachments": {},
   "cell_type": "markdown",
   "metadata": {},
   "source": [
    "This notebook is used to test components of the .py files in this folder."
   ]
  },
  {
   "cell_type": "code",
   "execution_count": 1,
   "metadata": {},
   "outputs": [],
   "source": [
    "import numpy as np\n",
    "import matplotlib.pyplot as plt\n",
    "import ann_utils"
   ]
  },
  {
   "cell_type": "markdown",
   "metadata": {},
   "source": []
  },
  {
   "attachments": {},
   "cell_type": "markdown",
   "metadata": {},
   "source": [
    "## Test ann_utils from **function.py**\n",
    "Blue line: function.\n",
    "Red line: slope of the function.\n",
    "### Logistic function and its derivative."
   ]
  },
  {
   "cell_type": "code",
   "execution_count": 2,
   "metadata": {},
   "outputs": [
    {
     "ename": "AttributeError",
     "evalue": "module 'ann_utils' has no attribute 'logistic'",
     "output_type": "error",
     "traceback": [
      "\u001b[0;31m---------------------------------------------------------------------------\u001b[0m",
      "\u001b[0;31mAttributeError\u001b[0m                            Traceback (most recent call last)",
      "Cell \u001b[0;32mIn[2], line 2\u001b[0m\n\u001b[1;32m      1\u001b[0m x \u001b[39m=\u001b[39m np\u001b[39m.\u001b[39mlinspace(\u001b[39m-\u001b[39m\u001b[39m10\u001b[39m, \u001b[39m10\u001b[39m, \u001b[39m100\u001b[39m)\n\u001b[0;32m----> 2\u001b[0m y \u001b[39m=\u001b[39m ann_utils\u001b[39m.\u001b[39;49mlogistic(x)\n\u001b[1;32m      3\u001b[0m plt\u001b[39m.\u001b[39mplot(x, y) \u001b[39m# scaled down for better visualization.\u001b[39;00m\n\u001b[1;32m      4\u001b[0m dy \u001b[39m=\u001b[39m ann_utils\u001b[39m.\u001b[39md_logistic(x)\n",
      "\u001b[0;31mAttributeError\u001b[0m: module 'ann_utils' has no attribute 'logistic'"
     ]
    }
   ],
   "source": [
    "x = np.linspace(-10, 10, 100)\n",
    "y = ann_utils.sigmoid(x)\n",
    "plt.plot(x, y) # scaled down for better visualization.\n",
    "dy = ann_utils.d_sigmoid(x)\n",
    "plt.plot(x, dy, 'r')"
   ]
  },
  {
   "attachments": {},
   "cell_type": "markdown",
   "metadata": {},
   "source": [
    "### Tanh and its derivative."
   ]
  },
  {
   "cell_type": "code",
   "execution_count": null,
   "metadata": {},
   "outputs": [],
   "source": [
    "x = np.linspace(-2 * np.pi, 2 * np.pi, 100)\n",
    "y = ann_utils.tanh(x)\n",
    "plt.plot(x, y)\n",
    "dy = ann_utils.d_tanh(x)\n",
    "plt.plot(x, dy, 'r')"
   ]
  },
  {
   "attachments": {},
   "cell_type": "markdown",
   "metadata": {},
   "source": [
    "### ReLU and its derivative."
   ]
  },
  {
   "cell_type": "code",
   "execution_count": null,
   "metadata": {},
   "outputs": [],
   "source": [
    "x = np.linspace(-2, 2, 100)\n",
    "y = ann_utils.relu(x)\n",
    "plt.plot(x, y)\n",
    "dy = ann_utils.d_relu(x)\n",
    "plt.plot(x, dy, 'r')"
   ]
  }
 ],
 "metadata": {
  "kernelspec": {
   "display_name": "Python 3",
   "language": "python",
   "name": "python3"
  },
  "language_info": {
   "codemirror_mode": {
    "name": "ipython",
    "version": 3
   },
   "file_extension": ".py",
   "mimetype": "text/x-python",
   "name": "python",
   "nbconvert_exporter": "python",
   "pygments_lexer": "ipython3",
   "version": "3.10.6"
  },
  "orig_nbformat": 4
 },
 "nbformat": 4,
 "nbformat_minor": 2
}
